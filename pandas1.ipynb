{
 "cells": [
  {
   "cell_type": "code",
   "execution_count": 2,
   "id": "a2551ce3-87ef-42bd-a3ad-6296ed66ac60",
   "metadata": {},
   "outputs": [],
   "source": [
    "import numpy as np"
   ]
  },
  {
   "cell_type": "code",
   "execution_count": 3,
   "id": "f8702fd0-e1a9-4496-b2f6-74cd5dc549d1",
   "metadata": {},
   "outputs": [],
   "source": [
    "import pandas as pd"
   ]
  },
  {
   "cell_type": "code",
   "execution_count": 4,
   "id": "9664bd25-b981-4a9a-9e78-c670e35c509f",
   "metadata": {},
   "outputs": [],
   "source": [
    "myindex =  ['USA','Canada','Mexico']"
   ]
  },
  {
   "cell_type": "code",
   "execution_count": 5,
   "id": "bf5b2c8e-d9ca-40cd-9341-8b6ad0d4cef5",
   "metadata": {},
   "outputs": [],
   "source": [
    "mydata = [1776, 1867 , 1821]"
   ]
  },
  {
   "cell_type": "code",
   "execution_count": 6,
   "id": "2707cb04-eebe-4aaa-b896-b3b290a790fd",
   "metadata": {},
   "outputs": [],
   "source": [
    "myser = pd.Series(data = mydata)"
   ]
  },
  {
   "cell_type": "code",
   "execution_count": 7,
   "id": "cc11f794-d89b-4d34-a7f0-6792b3b07fcb",
   "metadata": {},
   "outputs": [
    {
     "data": {
      "text/plain": [
       "0    1776\n",
       "1    1867\n",
       "2    1821\n",
       "dtype: int64"
      ]
     },
     "execution_count": 7,
     "metadata": {},
     "output_type": "execute_result"
    }
   ],
   "source": [
    "myser"
   ]
  },
  {
   "cell_type": "code",
   "execution_count": 8,
   "id": "67b1fd9e-3e8b-4a50-95f7-aa38854c184c",
   "metadata": {},
   "outputs": [],
   "source": [
    "# creating series"
   ]
  },
  {
   "cell_type": "code",
   "execution_count": 9,
   "id": "cc359ab4-165b-4d37-beba-d9dbc20a739d",
   "metadata": {},
   "outputs": [],
   "source": [
    "myser = pd.Series(data = mydata , index = myindex )"
   ]
  },
  {
   "cell_type": "code",
   "execution_count": 10,
   "id": "017ce7a2-1230-4d82-9a7e-e83235412bdc",
   "metadata": {},
   "outputs": [
    {
     "data": {
      "text/plain": [
       "USA       1776\n",
       "Canada    1867\n",
       "Mexico    1821\n",
       "dtype: int64"
      ]
     },
     "execution_count": 10,
     "metadata": {},
     "output_type": "execute_result"
    }
   ],
   "source": [
    "myser"
   ]
  },
  {
   "cell_type": "code",
   "execution_count": 11,
   "id": "9f301c4a-b51a-4df0-a65d-f578d30054ad",
   "metadata": {},
   "outputs": [],
   "source": [
    "# we can also create Pandas series from Dictionary"
   ]
  },
  {
   "cell_type": "code",
   "execution_count": 12,
   "id": "808b56dc-5d4b-4161-88e2-08e3a4d9096f",
   "metadata": {},
   "outputs": [],
   "source": [
    "ages = {'Sam': 5 , 'Frank': 10 , 'Spike': 7}\n",
    "# if we pass ages as data then pandas will visualize keys as the index"
   ]
  },
  {
   "cell_type": "code",
   "execution_count": 13,
   "id": "05edbce2-a670-493a-baf5-56f911a3badd",
   "metadata": {},
   "outputs": [
    {
     "data": {
      "text/plain": [
       "Sam       5\n",
       "Frank    10\n",
       "Spike     7\n",
       "dtype: int64"
      ]
     },
     "execution_count": 13,
     "metadata": {},
     "output_type": "execute_result"
    }
   ],
   "source": [
    "pd.Series(ages)"
   ]
  },
  {
   "cell_type": "code",
   "execution_count": 14,
   "id": "206f21b1-28e2-49f3-a83a-27e3aafdcd83",
   "metadata": {},
   "outputs": [],
   "source": [
    "q1 = {'Japan':80 , 'China':450 , 'India':200}"
   ]
  },
  {
   "cell_type": "code",
   "execution_count": 15,
   "id": "cfe0060a-3326-4079-b97e-73b886915f42",
   "metadata": {},
   "outputs": [],
   "source": [
    "q2 = {'Brasil':100, 'China':450 ,'India':200}"
   ]
  },
  {
   "cell_type": "code",
   "execution_count": 16,
   "id": "9cf2f370-30d4-4706-a8df-5a697267a966",
   "metadata": {},
   "outputs": [],
   "source": [
    "sales_q1 = pd.Series(q1)"
   ]
  },
  {
   "cell_type": "code",
   "execution_count": 17,
   "id": "27561e32-e4e3-4893-85ae-d58f6f8465d6",
   "metadata": {},
   "outputs": [],
   "source": [
    "sales_q2 = pd.Series(q2)"
   ]
  },
  {
   "cell_type": "code",
   "execution_count": 18,
   "id": "b102e652-e95b-4044-a35f-cd55656b99b6",
   "metadata": {},
   "outputs": [],
   "source": [
    "# Suppose if we want to list all the avilable keys in a large dataset then we can do "
   ]
  },
  {
   "cell_type": "code",
   "execution_count": 19,
   "id": "679bd2f8-bdf2-4cb4-b3f8-e709ffd4e966",
   "metadata": {},
   "outputs": [
    {
     "data": {
      "text/plain": [
       "Index(['Japan', 'China', 'India'], dtype='object')"
      ]
     },
     "execution_count": 19,
     "metadata": {},
     "output_type": "execute_result"
    }
   ],
   "source": [
    "sales_q1.keys()"
   ]
  },
  {
   "cell_type": "code",
   "execution_count": 20,
   "id": "cf0ae326-9e14-41fc-8880-5b6655c95c04",
   "metadata": {},
   "outputs": [],
   "source": [
    "# If there is a list [1,2] & we want to muntiply each list item by 2 then: "
   ]
  },
  {
   "cell_type": "code",
   "execution_count": 21,
   "id": "0d7db824-4c1d-466f-ac54-ace17290fb8c",
   "metadata": {},
   "outputs": [
    {
     "data": {
      "text/plain": [
       "[1, 2, 1, 2]"
      ]
     },
     "execution_count": 21,
     "metadata": {},
     "output_type": "execute_result"
    }
   ],
   "source": [
    "[1,2] *2\n",
    "# it doesnt work but if it is a numpy array then it will work."
   ]
  },
  {
   "cell_type": "code",
   "execution_count": 22,
   "id": "5d8a014c-8f06-4c8e-a18f-50cf4e314d9f",
   "metadata": {},
   "outputs": [
    {
     "data": {
      "text/plain": [
       "array([2, 4])"
      ]
     },
     "execution_count": 22,
     "metadata": {},
     "output_type": "execute_result"
    }
   ],
   "source": [
    "np.array([1,2]) * 2"
   ]
  },
  {
   "cell_type": "code",
   "execution_count": 23,
   "id": "f86ffbc1-c6a9-44b1-9cdb-bd90eab8c3b7",
   "metadata": {},
   "outputs": [
    {
     "data": {
      "text/plain": [
       "Japan     80\n",
       "China    450\n",
       "India    200\n",
       "dtype: int64"
      ]
     },
     "execution_count": 23,
     "metadata": {},
     "output_type": "execute_result"
    }
   ],
   "source": [
    "# since sales_q1 pandas service built by numpy operation it will work\n",
    "sales_q1"
   ]
  },
  {
   "cell_type": "code",
   "execution_count": 24,
   "id": "ec08ce44-254b-474f-8415-35a23fabcb84",
   "metadata": {},
   "outputs": [
    {
     "data": {
      "text/plain": [
       "Japan    160\n",
       "China    900\n",
       "India    400\n",
       "dtype: int64"
      ]
     },
     "execution_count": 24,
     "metadata": {},
     "output_type": "execute_result"
    }
   ],
   "source": [
    "sales_q1 * 2"
   ]
  },
  {
   "cell_type": "code",
   "execution_count": 25,
   "id": "f7506454-9945-4f9c-8fb4-cdd3a4523d31",
   "metadata": {},
   "outputs": [],
   "source": [
    "# NAN\n",
    "final = sales_q1 + sales_q2\n",
    "# Both Brasil and Japan arent present in both q1, q2  So it returns NAN."
   ]
  },
  {
   "cell_type": "code",
   "execution_count": 26,
   "id": "c87016b1-cb03-40c4-89fc-99b33a91586a",
   "metadata": {},
   "outputs": [
    {
     "data": {
      "text/plain": [
       "Brasil    100.0\n",
       "China     900.0\n",
       "India     400.0\n",
       "Japan      80.0\n",
       "dtype: float64"
      ]
     },
     "execution_count": 26,
     "metadata": {},
     "output_type": "execute_result"
    }
   ],
   "source": [
    " # handeling of NAN\n",
    "sales_q1.add(sales_q2 , fill_value = 0)"
   ]
  },
  {
   "cell_type": "code",
   "execution_count": 27,
   "id": "acd66ad8-4fa7-4282-bf43-9d737c8c4bd5",
   "metadata": {},
   "outputs": [],
   "source": [
    "#final.fillna()\n",
    "#final.dropna()"
   ]
  },
  {
   "cell_type": "code",
   "execution_count": 28,
   "id": "81d54c2f-7f43-4c7a-84e3-1f260313357b",
   "metadata": {},
   "outputs": [],
   "source": [
    "#Dataframe\n",
    "np.random.seed(101)\n",
    "mydata = np.random.randint(0,101,(4,3))\n"
   ]
  },
  {
   "cell_type": "code",
   "execution_count": 29,
   "id": "43b423e4-567f-4b9c-9182-9a57463d43cb",
   "metadata": {},
   "outputs": [],
   "source": [
    "mycolumns = ['Jan','Feb','Mar']\n",
    "myindex =  ['CA','NY','AZ','TX']\n",
    "# Now we are going to create  df manually"
   ]
  },
  {
   "cell_type": "code",
   "execution_count": 30,
   "id": "65f24357-d345-447e-b84c-77ddf871c1d7",
   "metadata": {},
   "outputs": [],
   "source": [
    "df = pd.DataFrame(mydata)"
   ]
  },
  {
   "cell_type": "code",
   "execution_count": 31,
   "id": "63f9c009-59cb-44a1-9bc0-9f0ccd4dd4f5",
   "metadata": {},
   "outputs": [
    {
     "data": {
      "text/html": [
       "<div>\n",
       "<style scoped>\n",
       "    .dataframe tbody tr th:only-of-type {\n",
       "        vertical-align: middle;\n",
       "    }\n",
       "\n",
       "    .dataframe tbody tr th {\n",
       "        vertical-align: top;\n",
       "    }\n",
       "\n",
       "    .dataframe thead th {\n",
       "        text-align: right;\n",
       "    }\n",
       "</style>\n",
       "<table border=\"1\" class=\"dataframe\">\n",
       "  <thead>\n",
       "    <tr style=\"text-align: right;\">\n",
       "      <th></th>\n",
       "      <th>0</th>\n",
       "      <th>1</th>\n",
       "      <th>2</th>\n",
       "    </tr>\n",
       "  </thead>\n",
       "  <tbody>\n",
       "    <tr>\n",
       "      <th>0</th>\n",
       "      <td>95</td>\n",
       "      <td>11</td>\n",
       "      <td>81</td>\n",
       "    </tr>\n",
       "    <tr>\n",
       "      <th>1</th>\n",
       "      <td>70</td>\n",
       "      <td>63</td>\n",
       "      <td>87</td>\n",
       "    </tr>\n",
       "    <tr>\n",
       "      <th>2</th>\n",
       "      <td>75</td>\n",
       "      <td>9</td>\n",
       "      <td>77</td>\n",
       "    </tr>\n",
       "    <tr>\n",
       "      <th>3</th>\n",
       "      <td>40</td>\n",
       "      <td>4</td>\n",
       "      <td>63</td>\n",
       "    </tr>\n",
       "  </tbody>\n",
       "</table>\n",
       "</div>"
      ],
      "text/plain": [
       "    0   1   2\n",
       "0  95  11  81\n",
       "1  70  63  87\n",
       "2  75   9  77\n",
       "3  40   4  63"
      ]
     },
     "execution_count": 31,
     "metadata": {},
     "output_type": "execute_result"
    }
   ],
   "source": [
    "df"
   ]
  },
  {
   "cell_type": "code",
   "execution_count": 32,
   "id": "852bbfe5-ca66-483e-84f5-d25b1c6cb09a",
   "metadata": {},
   "outputs": [],
   "source": [
    "df = pd.DataFrame(mydata,myindex)"
   ]
  },
  {
   "cell_type": "code",
   "execution_count": 33,
   "id": "dce1fa7d-09ae-49f8-9396-72679c5a67ab",
   "metadata": {},
   "outputs": [
    {
     "data": {
      "text/html": [
       "<div>\n",
       "<style scoped>\n",
       "    .dataframe tbody tr th:only-of-type {\n",
       "        vertical-align: middle;\n",
       "    }\n",
       "\n",
       "    .dataframe tbody tr th {\n",
       "        vertical-align: top;\n",
       "    }\n",
       "\n",
       "    .dataframe thead th {\n",
       "        text-align: right;\n",
       "    }\n",
       "</style>\n",
       "<table border=\"1\" class=\"dataframe\">\n",
       "  <thead>\n",
       "    <tr style=\"text-align: right;\">\n",
       "      <th></th>\n",
       "      <th>0</th>\n",
       "      <th>1</th>\n",
       "      <th>2</th>\n",
       "    </tr>\n",
       "  </thead>\n",
       "  <tbody>\n",
       "    <tr>\n",
       "      <th>CA</th>\n",
       "      <td>95</td>\n",
       "      <td>11</td>\n",
       "      <td>81</td>\n",
       "    </tr>\n",
       "    <tr>\n",
       "      <th>NY</th>\n",
       "      <td>70</td>\n",
       "      <td>63</td>\n",
       "      <td>87</td>\n",
       "    </tr>\n",
       "    <tr>\n",
       "      <th>AZ</th>\n",
       "      <td>75</td>\n",
       "      <td>9</td>\n",
       "      <td>77</td>\n",
       "    </tr>\n",
       "    <tr>\n",
       "      <th>TX</th>\n",
       "      <td>40</td>\n",
       "      <td>4</td>\n",
       "      <td>63</td>\n",
       "    </tr>\n",
       "  </tbody>\n",
       "</table>\n",
       "</div>"
      ],
      "text/plain": [
       "     0   1   2\n",
       "CA  95  11  81\n",
       "NY  70  63  87\n",
       "AZ  75   9  77\n",
       "TX  40   4  63"
      ]
     },
     "execution_count": 33,
     "metadata": {},
     "output_type": "execute_result"
    }
   ],
   "source": [
    "df"
   ]
  },
  {
   "cell_type": "code",
   "execution_count": 34,
   "id": "cbebb3e8-ff17-48ab-b7bb-c39fd05fe876",
   "metadata": {},
   "outputs": [],
   "source": [
    "df = pd.DataFrame(mydata,myindex,mycolumns)"
   ]
  },
  {
   "cell_type": "code",
   "execution_count": 35,
   "id": "7c7197c4-5cd0-4f60-8b99-de66790dd81d",
   "metadata": {},
   "outputs": [
    {
     "data": {
      "text/html": [
       "<div>\n",
       "<style scoped>\n",
       "    .dataframe tbody tr th:only-of-type {\n",
       "        vertical-align: middle;\n",
       "    }\n",
       "\n",
       "    .dataframe tbody tr th {\n",
       "        vertical-align: top;\n",
       "    }\n",
       "\n",
       "    .dataframe thead th {\n",
       "        text-align: right;\n",
       "    }\n",
       "</style>\n",
       "<table border=\"1\" class=\"dataframe\">\n",
       "  <thead>\n",
       "    <tr style=\"text-align: right;\">\n",
       "      <th></th>\n",
       "      <th>Jan</th>\n",
       "      <th>Feb</th>\n",
       "      <th>Mar</th>\n",
       "    </tr>\n",
       "  </thead>\n",
       "  <tbody>\n",
       "    <tr>\n",
       "      <th>CA</th>\n",
       "      <td>95</td>\n",
       "      <td>11</td>\n",
       "      <td>81</td>\n",
       "    </tr>\n",
       "    <tr>\n",
       "      <th>NY</th>\n",
       "      <td>70</td>\n",
       "      <td>63</td>\n",
       "      <td>87</td>\n",
       "    </tr>\n",
       "    <tr>\n",
       "      <th>AZ</th>\n",
       "      <td>75</td>\n",
       "      <td>9</td>\n",
       "      <td>77</td>\n",
       "    </tr>\n",
       "    <tr>\n",
       "      <th>TX</th>\n",
       "      <td>40</td>\n",
       "      <td>4</td>\n",
       "      <td>63</td>\n",
       "    </tr>\n",
       "  </tbody>\n",
       "</table>\n",
       "</div>"
      ],
      "text/plain": [
       "    Jan  Feb  Mar\n",
       "CA   95   11   81\n",
       "NY   70   63   87\n",
       "AZ   75    9   77\n",
       "TX   40    4   63"
      ]
     },
     "execution_count": 35,
     "metadata": {},
     "output_type": "execute_result"
    }
   ],
   "source": [
    "df"
   ]
  },
  {
   "cell_type": "code",
   "execution_count": 37,
   "id": "52b943b5-d6e0-4e77-95d7-6812288fe685",
   "metadata": {},
   "outputs": [],
   "source": [
    "# conditional filtering\n"
   ]
  },
  {
   "cell_type": "code",
   "execution_count": null,
   "id": "8ea4212b-1cf6-4811-9868-ea163aa109a9",
   "metadata": {},
   "outputs": [],
   "source": []
  }
 ],
 "metadata": {
  "kernelspec": {
   "display_name": "Python 3 (ipykernel)",
   "language": "python",
   "name": "python3"
  },
  "language_info": {
   "codemirror_mode": {
    "name": "ipython",
    "version": 3
   },
   "file_extension": ".py",
   "mimetype": "text/x-python",
   "name": "python",
   "nbconvert_exporter": "python",
   "pygments_lexer": "ipython3",
   "version": "3.11.5"
  }
 },
 "nbformat": 4,
 "nbformat_minor": 5
}
